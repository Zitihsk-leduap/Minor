{
 "cells": [
  {
   "cell_type": "markdown",
   "id": "b5b1c8e1-9b9f-460f-960a-192419549afd",
   "metadata": {},
   "source": [
    "# Problem Definition"
   ]
  },
  {
   "cell_type": "markdown",
   "id": "30779229-f9ac-4763-adfd-3c08f9e8e437",
   "metadata": {},
   "source": [
    "We are trying to predict whether the student might have depresion or not based on the various data he/she\n",
    "provided like CGPA, Age, Job Satisfaction and all that ."
   ]
  },
  {
   "cell_type": "markdown",
   "id": "a103c879-ef2b-4392-aced-3872ee4edb29",
   "metadata": {},
   "source": [
    "# Importing Libraries"
   ]
  },
  {
   "cell_type": "code",
   "execution_count": 1,
   "id": "a51234eb-b782-4ea9-9ec6-ea6eac6bc585",
   "metadata": {},
   "outputs": [],
   "source": [
    "import pandas as pd\n",
    "import numpy as np\n",
    "import matplotlib.pyplot as plt\n",
    "import seaborn as sns\n",
    "import warnings\n"
   ]
  },
  {
   "cell_type": "markdown",
   "id": "53316f2d-2ffc-4bcd-aca8-7a831a49c040",
   "metadata": {},
   "source": [
    "### Loading the dataset "
   ]
  },
  {
   "cell_type": "code",
   "execution_count": null,
   "id": "612940b1-c261-4ddb-928e-9c8ff364c3e5",
   "metadata": {},
   "outputs": [],
   "source": [
    "data = pd.read_csv('/data/'"
   ]
  }
 ],
 "metadata": {
  "kernelspec": {
   "display_name": "Python 3 (ipykernel)",
   "language": "python",
   "name": "python3"
  },
  "language_info": {
   "codemirror_mode": {
    "name": "ipython",
    "version": 3
   },
   "file_extension": ".py",
   "mimetype": "text/x-python",
   "name": "python",
   "nbconvert_exporter": "python",
   "pygments_lexer": "ipython3",
   "version": "3.9.21"
  }
 },
 "nbformat": 4,
 "nbformat_minor": 5
}
